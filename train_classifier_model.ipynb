{
 "cells": [
  {
   "cell_type": "code",
   "execution_count": null,
   "metadata": {},
   "outputs": [],
   "source": [
    "%pip install scikit-learn\n",
    "%pip install datasets\n",
    "%pip install transformers\n",
    "%pip install transformers[torch]\n",
    "%pip install evaluate\n",
    "%pip install pandas==2.0.3\n",
    "%pip install torch\n",
    "%pip install jobli\n",
    "%pip install tqdm\n",
    "%pip install progressbar"
   ]
  },
  {
   "cell_type": "code",
   "execution_count": null,
   "metadata": {},
   "outputs": [],
   "source": [
    "# this cell is required for running in google collab VM\n",
    "import os\n",
    "if os.getenv(\"COLAB_RELEASE_TAG\"):\n",
    "    print(\"Running in Colab\")\n",
    "    import sys\n",
    "    from google.colab import drive\n",
    "    drive.mount('/content/drive/')\n",
    "    sys.path.append('/content/drive/')\n",
    "    %cd /content/drive/MyDrive/Faks/research_uiktp\n",
    "else:\n",
    "   print(\"NOT in Colab\")"
   ]
  },
  {
   "cell_type": "code",
   "execution_count": 3,
   "metadata": {},
   "outputs": [],
   "source": [
    "import joblib\n",
    "import torch\n",
    "import sklearn\n",
    "import evaluate\n",
    "import numpy as np\n",
    "import pandas as pd\n",
    "from train_model import softmax, validate, predict_durations_for_tokenized_tensor_inputs as run_prediction\n",
    "from get_task_durations import plot_durations_histogram\n",
    "from data_utils import rename_columns, get_global_constants\n",
    "from datasets import DatasetDict, Dataset\n",
    "from make_dataset import split_dataset\n",
    "from transformers import BertTokenizer, BertModel, AutoModelForSequenceClassification, TrainingArguments, Trainer"
   ]
  },
  {
   "cell_type": "code",
   "execution_count": null,
   "metadata": {},
   "outputs": [],
   "source": [
    "GLOBAL_CONSTANTS = get_global_constants()"
   ]
  },
  {
   "cell_type": "code",
   "execution_count": null,
   "metadata": {},
   "outputs": [],
   "source": [
    "# this cell is required only when the processed dataset is not saved on the path provided in GLOBAL_CONSTANTS\n",
    "from make_dataset import get_jira_tasks\n",
    "generated_dataframe = get_jira_tasks()\n",
    "print(generated_dataframe)"
   ]
  },
  {
   "cell_type": "code",
   "execution_count": null,
   "metadata": {},
   "outputs": [],
   "source": [
    "dataframe = pd.read_csv(GLOBAL_CONSTANTS.CSV_DATASET_PATH)\n",
    "dataframe = rename_columns(dataframe)\n",
    "print(dataframe)\n",
    "plot_durations_histogram(dataframe, column_name='label')"
   ]
  },
  {
   "cell_type": "code",
   "execution_count": null,
   "metadata": {},
   "outputs": [],
   "source": [
    "train_set, test_set, validation_set = split_dataset(dataframe, train_set_length=.8, test_set_length=.1, validation_set_length=.1, axis=0)\n",
    "print(train_set)\n",
    "print(test_set)\n",
    "print(validation_set)"
   ]
  },
  {
   "cell_type": "code",
   "execution_count": null,
   "metadata": {},
   "outputs": [],
   "source": [
    "dataset = DatasetDict(\n",
    "    {\n",
    "        \"train\":Dataset.from_dict(train_set.to_dict('list')),\n",
    "        \"test\":Dataset.from_dict(test_set.to_dict('list')),\n",
    "        \"validation\":Dataset.from_dict(validation_set.to_dict('list'))\n",
    "    }\n",
    ")\n",
    "print(dataset)"
   ]
  },
  {
   "cell_type": "code",
   "execution_count": null,
   "metadata": {},
   "outputs": [],
   "source": [
    "tokenizer = BertTokenizer.from_pretrained(\"bert-base-cased\")\n",
    "\n",
    "def tokenize_function(jira_tasks, column_name=\"text\"):\n",
    "    ret = tokenizer(jira_tasks[column_name], padding=\"max_length\", truncation=True)\n",
    "    return ret\n",
    "\n",
    "tokenized_datasets = dataset.map(tokenize_function, batched=True)\n",
    "train_set = tokenized_datasets[\"train\"]\n",
    "test_set = tokenized_datasets[\"test\"]\n",
    "validation_set = tokenized_datasets[\"validation\"]\n",
    "print(train_set)\n",
    "print(test_set)\n",
    "print(validation_set)"
   ]
  },
  {
   "cell_type": "code",
   "execution_count": null,
   "metadata": {},
   "outputs": [],
   "source": [
    "metric = evaluate.load(\"accuracy\")\n",
    "\n",
    "def compute_metrics(eval_pred):\n",
    "    logits, labels = eval_pred\n",
    "    predictions = np.argmax(logits, axis=-1)\n",
    "    return metric.compute(predictions=predictions, references=labels)"
   ]
  },
  {
   "cell_type": "code",
   "execution_count": null,
   "metadata": {},
   "outputs": [],
   "source": [
    "model = AutoModelForSequenceClassification.from_pretrained(\"bert-base-cased\", num_labels=11)\n",
    "\n",
    "model.to(GLOBAL_CONSTANTS.DEVICE)\n",
    "\n",
    "training_args = TrainingArguments(output_dir=\"training_logs\", evaluation_strategy=\"epoch\")\n",
    "trainer = Trainer(\n",
    "    model=model,\n",
    "    args=training_args,\n",
    "    train_dataset=train_set,\n",
    "    eval_dataset=test_set,\n",
    "    compute_metrics=compute_metrics\n",
    ")\n",
    "trainer.train()\n",
    "print(\"Training finished\")"
   ]
  },
  {
   "cell_type": "code",
   "execution_count": null,
   "metadata": {},
   "outputs": [],
   "source": [
    "torch.save(model.state_dict(), GLOBAL_CONSTANTS.MODEL_PATH)\n",
    "print(\"Model serialized\")"
   ]
  },
  {
   "cell_type": "code",
   "execution_count": null,
   "metadata": {},
   "outputs": [],
   "source": [
    "loaded_model = AutoModelForSequenceClassification.from_pretrained(\"bert-base-cased\", num_labels=11)\n",
    "loaded_model.load_state_dict(torch.load(GLOBAL_CONSTANTS.MODEL_PATH, map_location=GLOBAL_CONSTANTS.DEVICE_STRING))\n",
    "print(\"Model loaded\")"
   ]
  },
  {
   "cell_type": "code",
   "execution_count": null,
   "metadata": {},
   "outputs": [],
   "source": [
    "loaded_model.eval()\n",
    "VALIDATION_SAMPLE_SIZE = 16\n",
    "input_text = validation_set['text']#[:VALIDATION_SAMPLE_SIZE]\n",
    "input_ids = validation_set['input_ids']#[:VALIDATION_SAMPLE_SIZE]\n",
    "input_masks = validation_set['attention_mask']#[:VALIDATION_SAMPLE_SIZE]\n",
    "true_durations = validation_set['label']#[:VALIDATION_SAMPLE_SIZE]\n",
    "input_ids = torch.tensor(input_ids)\n",
    "input_masks = torch.tensor(input_masks)\n",
    "print(\"Input sample (of type {}): {}\".format(type(input_text), input_text))\n",
    "print(\"Input ids (of type {}): {}\".format(type(input_ids), input_ids))\n",
    "print(\"Input masks (of type {}): {}\".format(type(input_masks), input_masks))\n",
    "predicted_duration = run_prediction(loaded_model, input_ids, input_masks)\n",
    "print(\"Predicted duration: {}\".format(predicted_duration))\n",
    "print(\"Expected durations: {}\".format(true_durations))"
   ]
  },
  {
   "cell_type": "code",
   "execution_count": null,
   "metadata": {},
   "outputs": [],
   "source": [
    "metrics = validate(true_durations, predicted_duration)\n",
    "print(metrics)"
   ]
  }
 ],
 "metadata": {
  "kernelspec": {
   "display_name": "Python 3",
   "language": "python",
   "name": "python3"
  },
  "language_info": {
   "codemirror_mode": {
    "name": "ipython",
    "version": 3
   },
   "file_extension": ".py",
   "mimetype": "text/x-python",
   "name": "python",
   "nbconvert_exporter": "python",
   "pygments_lexer": "ipython3",
   "version": "3.10.11"
  },
  "metadata": {
   "interpreter": {
    "hash": "d575028488d648a4c7783b21a32187cdd670bba5a0a4ba31a8e94d9c0a6370fc"
   }
  },
  "orig_nbformat": 4,
  "vscode": {
   "interpreter": {
    "hash": "953ed6bc8189f5d205e703207c735be6eeae3c752b871bbdd2c516ca95f1cdcb"
   }
  }
 },
 "nbformat": 4,
 "nbformat_minor": 2
}
