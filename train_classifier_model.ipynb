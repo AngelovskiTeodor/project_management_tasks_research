{
 "cells": [
  {
   "cell_type": "code",
   "execution_count": null,
   "metadata": {},
   "outputs": [],
   "source": [
    "%pip install scikit-learn\n",
    "%pip install datasets\n",
    "%pip install transformers\n",
    "%pip install transformers[torch]\n",
    "%pip install evaluate\n",
    "%pip install pandas==2.0.3\n",
    "%pip install torch\n",
    "%pip install joblib"
   ]
  },
  {
   "cell_type": "code",
   "execution_count": null,
   "metadata": {},
   "outputs": [],
   "source": [
    "# this cell is required only when running on google collab VM\n",
    "\n",
    "import sys\n",
    "#sys.path.append('/content/drive/MyDrive/Faks/research_uiktp')\n",
    "\n",
    "from google.colab import drive\n",
    "drive.mount('/content/drive/')\n",
    "\n",
    "sys.path.append('/content/drive/')\n",
    "\n",
    "%pwd\n",
    "%cd /content/drive/MyDrive/Faks/research_uiktp\n",
    "%pwd\n",
    "%ls"
   ]
  },
  {
   "cell_type": "code",
   "execution_count": 3,
   "metadata": {},
   "outputs": [],
   "source": [
    "import joblib\n",
    "import torch\n",
    "import sklearn\n",
    "import evaluate\n",
    "import numpy as np\n",
    "import pandas as pd\n",
    "from data_utils import rename_columns\n",
    "from datasets import DatasetDict, Dataset\n",
    "from make_dataset import split_dataset      # Module not found on google collab\n",
    "from transformers import BertTokenizer, BertModel, AutoModelForSequenceClassification, TrainingArguments, Trainer"
   ]
  },
  {
   "cell_type": "code",
   "execution_count": null,
   "metadata": {},
   "outputs": [],
   "source": [
    "CSV_DATASET_PATH = \"./processed_data/processed_data.csv\"\n",
    "#CSV_DATASET_PATH = \"/content/drive/MyDrive/Faks/research_uiktp/processed_data/processed_data.csv\"   # directory not found on google collab\n",
    "dataframe = pd.read_csv(CSV_DATASET_PATH)\n",
    "dataframe = rename_columns(dataframe)\n",
    "print(dataframe)"
   ]
  },
  {
   "cell_type": "code",
   "execution_count": null,
   "metadata": {},
   "outputs": [],
   "source": [
    "train_set, test_set, validation_set = split_dataset(dataframe, train_set_length=.8, test_set_length=.1, validation_set_length=.1, axis=0)\n",
    "print(train_set)\n",
    "print(test_set)\n",
    "print(validation_set)"
   ]
  },
  {
   "cell_type": "code",
   "execution_count": null,
   "metadata": {},
   "outputs": [],
   "source": [
    "dataset = DatasetDict(\n",
    "    {\n",
    "        \"train\":Dataset.from_dict(train_set.to_dict('list')),\n",
    "        \"test\":Dataset.from_dict(test_set.to_dict('list')),\n",
    "        \"validation\":Dataset.from_dict(validation_set.to_dict('list'))\n",
    "    }\n",
    ")\n",
    "print(dataset)"
   ]
  },
  {
   "cell_type": "code",
   "execution_count": null,
   "metadata": {},
   "outputs": [],
   "source": [
    "tokenizer = BertTokenizer.from_pretrained(\"bert-base-cased\")\n",
    "\n",
    "def tokenize_function(jira_tasks, column_name=\"text\"):\n",
    "    ret = tokenizer(jira_tasks[column_name], padding=\"max_length\", truncation=True)\n",
    "    return ret\n",
    "\n",
    "tokenized_datasets = dataset.map(tokenize_function, batched=True)\n",
    "train_set = tokenized_datasets[\"train\"]\n",
    "test_set = tokenized_datasets[\"test\"]\n",
    "validation_set = tokenized_datasets[\"validation\"]\n",
    "print(train_set)\n",
    "print(test_set)\n",
    "print(validation_set)"
   ]
  },
  {
   "cell_type": "code",
   "execution_count": null,
   "metadata": {},
   "outputs": [],
   "source": [
    "metric = evaluate.load(\"accuracy\")\n",
    "\n",
    "def compute_metrics(eval_pred):\n",
    "    logits, labels = eval_pred\n",
    "    predictions = np.argmax(logits, axis=-1)\n",
    "    return metric.compute(predictions=predictions, references=labels)"
   ]
  },
  {
   "cell_type": "code",
   "execution_count": null,
   "metadata": {},
   "outputs": [],
   "source": [
    "model = AutoModelForSequenceClassification.from_pretrained(\"bert-base-cased\", num_labels=11)\n",
    "\n",
    "if torch.cuda.is_available():\n",
    "    device = torch.device(\"cuda\")\n",
    "else:\n",
    "    print(\"GPU is not available. CPU will be used to train the model\")\n",
    "    device = torch.device(\"cpu\")\n",
    "model.to(device)\n",
    "\n",
    "training_args = TrainingArguments(output_dir=\"training_logs\", evaluation_strategy=\"epoch\")\n",
    "trainer = Trainer(\n",
    "    model=model,\n",
    "    args=training_args,\n",
    "    train_dataset=train_set,\n",
    "    eval_dataset=test_set,\n",
    "    compute_metrics=compute_metrics\n",
    ")\n",
    "trainer.train()\n",
    "print(\"Training finished\")"
   ]
  },
  {
   "cell_type": "code",
   "execution_count": 8,
   "metadata": {},
   "outputs": [],
   "source": [
    "model_path = \"/content/drive/MyDrive/Faks/research_uiktp/trained_classifier.sav\"\n",
    "#model_path = \"./trained_classifier.sav\"\n",
    "model_path = \"/content/drive/MyDrive/pytorch_model.bin\"\n",
    "model_path = \"pytorch_model.bin\""
   ]
  },
  {
   "cell_type": "code",
   "execution_count": null,
   "metadata": {},
   "outputs": [],
   "source": [
    "torch.save(model.state_dict(), model_path)\n",
    "print(\"Model serialized\")"
   ]
  },
  {
   "cell_type": "code",
   "execution_count": null,
   "metadata": {},
   "outputs": [],
   "source": [
    "MAP_LOCATION = 'cpu'\n",
    "#MAP_LOCATION = 'cuda'\n",
    "loaded_model = AutoModelForSequenceClassification.from_pretrained(\"bert-base-cased\", num_labels=11)\n",
    "loaded_model.load_state_dict(torch.load(model_path, map_location=MAP_LOCATION))\n",
    "print(\"Model loaded\")"
   ]
  },
  {
   "cell_type": "code",
   "execution_count": null,
   "metadata": {},
   "outputs": [],
   "source": [
    "loaded_model.eval()\n",
    "input_text = validation_set['text'][0]\n",
    "input_ids = validation_set['input_ids'][0]\n",
    "input_masks = validation_set['attention_mask'][0]\n",
    "print(\"Input sample: {}\".format(input_text))\n",
    "print(\"Input ids: {}\".format(input_ids))\n",
    "print(\"Input masks: {}\".format(input_masks))\n",
    "predicted_duration = loaded_model.forward(input_ids, input_masks)\n",
    "print(\"Predicted duration: {}\".format(predicted_duration))"
   ]
  }
 ],
 "metadata": {
  "kernelspec": {
   "display_name": "Python 3",
   "language": "python",
   "name": "python3"
  },
  "language_info": {
   "codemirror_mode": {
    "name": "ipython",
    "version": 3
   },
   "file_extension": ".py",
   "mimetype": "text/x-python",
   "name": "python",
   "nbconvert_exporter": "python",
   "pygments_lexer": "ipython3",
   "version": "3.10.11"
  },
  "metadata": {
   "interpreter": {
    "hash": "d575028488d648a4c7783b21a32187cdd670bba5a0a4ba31a8e94d9c0a6370fc"
   }
  },
  "orig_nbformat": 4,
  "vscode": {
   "interpreter": {
    "hash": "953ed6bc8189f5d205e703207c735be6eeae3c752b871bbdd2c516ca95f1cdcb"
   }
  }
 },
 "nbformat": 4,
 "nbformat_minor": 2
}
