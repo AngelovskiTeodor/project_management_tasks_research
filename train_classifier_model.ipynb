{
 "cells": [
  {
   "cell_type": "code",
   "execution_count": null,
   "metadata": {},
   "outputs": [],
   "source": [
    "%pip install scikit-learn\n",
    "%pip install datasets\n",
    "%pip install transformers\n",
    "%pip install transformers[torch]\n",
    "%pip install evaluate\n",
    "%pip install pandas==2.0.3\n",
    "%pip install torch\n",
    "%pip install joblib\n",
    "%pip install tqdm\n",
    "%pip install progressbar\n",
    "%pip install seaborn"
   ]
  },
  {
   "cell_type": "code",
   "execution_count": null,
   "metadata": {},
   "outputs": [],
   "source": [
    "# this cell is required for running in google collab VM\n",
    "import os\n",
    "if os.getenv(\"COLAB_RELEASE_TAG\"):\n",
    "    print(\"Running in Colab\")\n",
    "    import sys\n",
    "    from google.colab import drive\n",
    "    drive.mount('/content/drive/')\n",
    "    sys.path.append('/content/drive/')\n",
    "    %cd /content/drive/MyDrive/Faks/research_uiktp\n",
    "else:\n",
    "   print(\"NOT in Colab\")"
   ]
  },
  {
   "cell_type": "code",
   "execution_count": 3,
   "metadata": {},
   "outputs": [],
   "source": [
    "import joblib\n",
    "import torch\n",
    "import sklearn\n",
    "import evaluate\n",
    "import numpy as np\n",
    "import pandas as pd\n",
    "import seaborn as sns\n",
    "from train_model import softmax, validate, predict_durations_for_tokenized_tensor_inputs as run_prediction\n",
    "from get_task_durations import plot_durations_histogram\n",
    "from data_utils import rename_columns, get_global_constants, balance_dataframe\n",
    "from datasets import DatasetDict, Dataset\n",
    "from make_dataset import split_dataset\n",
    "from transformers import BertTokenizer, BertModel, AutoModelForSequenceClassification, TrainingArguments, Trainer"
   ]
  },
  {
   "cell_type": "code",
   "execution_count": null,
   "metadata": {},
   "outputs": [],
   "source": [
    "GLOBAL_CONSTANTS = get_global_constants()\n",
    "print(GLOBAL_CONSTANTS)"
   ]
  },
  {
   "cell_type": "code",
   "execution_count": null,
   "metadata": {},
   "outputs": [],
   "source": [
    "# this cell is required only when the processed dataset is not saved on the path provided in GLOBAL_CONSTANTS\n",
    "from make_dataset import get_jira_tasks\n",
    "generated_dataframe = get_jira_tasks()\n",
    "print(generated_dataframe)"
   ]
  },
  {
   "cell_type": "code",
   "execution_count": null,
   "metadata": {},
   "outputs": [],
   "source": [
    "dataframe = pd.read_csv(GLOBAL_CONSTANTS.CSV_DATASET_PATH)\n",
    "dataframe = rename_columns(dataframe)\n",
    "\n",
    "print(dataframe)\n",
    "plot_durations_histogram(dataframe, column_name='label')\n",
    "\n",
    "dataframe = balance_dataframe(dataframe)\n",
    "dataframe = dataframe.sample(frac=1, random_state=GLOBAL_CONSTANTS.RANDOM_STATE).reset_index(drop=True)\n",
    "\n",
    "print(dataframe)\n",
    "plot_durations_histogram(dataframe, column_name='label')"
   ]
  },
  {
   "cell_type": "code",
   "execution_count": null,
   "metadata": {},
   "outputs": [],
   "source": [
    "train_set, test_set, validation_set = split_dataset(dataframe, train_set_length=.8, test_set_length=.1, validation_set_length=.1, axis=0)\n",
    "print(train_set)\n",
    "print(test_set)\n",
    "print(validation_set)"
   ]
  },
  {
   "cell_type": "code",
   "execution_count": null,
   "metadata": {},
   "outputs": [],
   "source": [
    "dataset = DatasetDict(\n",
    "    {\n",
    "        \"train\":Dataset.from_dict(train_set.to_dict('list')),\n",
    "        \"test\":Dataset.from_dict(test_set.to_dict('list')),\n",
    "        \"validation\":Dataset.from_dict(validation_set.to_dict('list'))\n",
    "    }\n",
    ")\n",
    "print(dataset)"
   ]
  },
  {
   "cell_type": "code",
   "execution_count": null,
   "metadata": {},
   "outputs": [],
   "source": [
    "tokenizer = BertTokenizer.from_pretrained(\"bert-base-cased\")\n",
    "\n",
    "def tokenize_function(jira_tasks, column_name=\"text\"):\n",
    "    ret = tokenizer(jira_tasks[column_name], padding=\"max_length\", truncation=True)\n",
    "    return ret\n",
    "\n",
    "tokenized_datasets = dataset.map(tokenize_function, batched=True)\n",
    "train_set = tokenized_datasets[\"train\"]\n",
    "test_set = tokenized_datasets[\"test\"]\n",
    "validation_set = tokenized_datasets[\"validation\"]\n",
    "print(train_set)\n",
    "print(test_set)\n",
    "print(validation_set)"
   ]
  },
  {
   "cell_type": "code",
   "execution_count": null,
   "metadata": {},
   "outputs": [],
   "source": [
    "metric = evaluate.load(\"accuracy\")\n",
    "\n",
    "def compute_metrics(eval_pred):\n",
    "    logits, labels = eval_pred\n",
    "    predictions = np.argmax(logits, axis=-1)\n",
    "    return metric.compute(predictions=predictions, references=labels)"
   ]
  },
  {
   "cell_type": "code",
   "execution_count": null,
   "metadata": {},
   "outputs": [],
   "source": [
    "model = AutoModelForSequenceClassification.from_pretrained(\"bert-base-cased\", num_labels=11)\n",
    "\n",
    "model.to(GLOBAL_CONSTANTS.DEVICE)\n",
    "\n",
    "training_args = TrainingArguments(\n",
    "    output_dir=\"training_logs\",\n",
    "    evaluation_strategy=\"epoch\",\n",
    "    num_train_epochs=4,\n",
    "    learning_rate=2.5e-5,\n",
    "    save_steps=3250,\n",
    "    save_total_limit=1\n",
    "    )\n",
    "trainer = Trainer(\n",
    "    model=model,\n",
    "    args=training_args,\n",
    "    train_dataset=train_set,\n",
    "    eval_dataset=test_set,\n",
    "    compute_metrics=compute_metrics\n",
    ")\n",
    "trainer.train()\n",
    "print(\"Training finished\")"
   ]
  },
  {
   "cell_type": "code",
   "execution_count": null,
   "metadata": {},
   "outputs": [],
   "source": [
    "torch.save(model.state_dict(), GLOBAL_CONSTANTS.MODEL_PATH)\n",
    "print(\"Model serialized\")"
   ]
  },
  {
   "cell_type": "code",
   "execution_count": null,
   "metadata": {},
   "outputs": [],
   "source": [
    "loaded_model = AutoModelForSequenceClassification.from_pretrained(\"bert-base-cased\", num_labels=11)\n",
    "loaded_model.load_state_dict(torch.load(GLOBAL_CONSTANTS.MODEL_PATH, map_location=GLOBAL_CONSTANTS.DEVICE_STRING))\n",
    "print(\"Model loaded\")"
   ]
  },
  {
   "cell_type": "code",
   "execution_count": null,
   "metadata": {},
   "outputs": [],
   "source": [
    "loaded_model.eval()\n",
    "VALIDATION_SAMPLE_SIZE = 16\n",
    "input_text = validation_set['text']#[:VALIDATION_SAMPLE_SIZE]\n",
    "input_ids = validation_set['input_ids']#[:VALIDATION_SAMPLE_SIZE]\n",
    "input_masks = validation_set['attention_mask']#[:VALIDATION_SAMPLE_SIZE]\n",
    "true_durations = validation_set['label']#[:VALIDATION_SAMPLE_SIZE]\n",
    "input_ids = torch.tensor(input_ids)\n",
    "input_masks = torch.tensor(input_masks)\n",
    "print(\"Input sample (of type {}): {}\".format(type(input_text), input_text))\n",
    "print(\"Input ids (of type {}): {}\".format(type(input_ids), input_ids))\n",
    "print(\"Input masks (of type {}): {}\".format(type(input_masks), input_masks))\n",
    "predicted_durations = run_prediction(loaded_model, input_ids, input_masks)\n",
    "print(\"Predicted duration: {}\".format(predicted_durations))\n",
    "print(\"Expected durations: {}\".format(true_durations))"
   ]
  },
  {
   "cell_type": "code",
   "execution_count": null,
   "metadata": {},
   "outputs": [],
   "source": [
    "#predicted_durations = [7, 10, 10, 2, 9, 1, 10, 8, 2, 10, 1, 3, 1, 4, 8, 1, 8, 8, 2, 8, 10, 9, 7, 4, 8, 10, 5, 10, 1, 8, 8, 8, 8, 10, 2, 2, 8, 10, 7, 4, 1, 7, 5, 4, 8, 10, 1, 1, 2, 8, 8, 10, 9, 10, 1, 8, 10, 8, 2, 7, 5, 1, 2, 8, 8, 8, 10, 8, 7, 7, 8, 7, 9, 1, 7, 1, 6, 8, 10, 8, 10, 8, 7, 9, 7, 7, 8, 1, 5, 10, 8, 8, 7, 4, 1, 7, 7, 2, 5, 8, 8, 2, 10, 1, 1, 10, 1, 4, 2, 7, 10, 1, 9, 4, 8, 1, 1, 4, 8, 1, 1, 8, 10, 1, 8, 10, 9, 1, 8, 8, 1, 8, 7, 10, 10, 1, 4, 8, 1, 7, 9, 8, 10, 7, 5, 5, 1, 1, 9, 10, 7, 10, 8, 10, 10, 10, 7, 7, 8, 7, 9, 8, 7, 8, 10, 8, 5, 5, 1, 7, 7, 4, 4, 5, 8, 8, 7, 1, 8, 7, 3, 1, 2, 10, 8, 9, 10, 8, 10, 10, 10, 8, 10, 8, 8, 8, 9, 2, 10, 5, 1, 2, 10, 9, 7, 1, 8, 2, 7, 8, 8, 6, 1, 3, 5, 10, 7, 8, 1, 8, 7, 8, 4, 4, 1, 10, 8, 10, 8, 7, 3, 8, 7, 8, 8, 10, 1, 1, 8, 7, 8, 1, 10, 1, 8, 8, 1, 3, 1, 9, 7, 1, 8, 5, 10, 1, 10, 2, 10, 7, 3, 8, 7, 8, 1, 10, 3, 9, 10, 8, 7, 1, 1, 1, 1, 7, 1, 8, 3, 1, 7, 8, 9, 10, 2, 10, 10, 5, 7, 8, 4, 4, 7, 5, 9, 2, 5, 8, 2, 1, 1, 7, 8, 10, 2, 10, 1, 1, 7, 8, 10, 1, 8, 5, 10, 5, 7, 8, 7, 10, 5, 4, 7, 7, 8, 1, 1, 1, 8, 1, 8, 10, 10, 1, 1, 5, 9, 4, 8, 1, 10, 9, 2, 7, 9, 8, 3, 8, 10, 9, 8, 7, 8, 4, 7, 8, 8, 8, 1, 9, 9, 8, 7, 7, 1, 4, 5, 8, 1, 8, 7, 1, 2, 8, 1, 1, 1, 10, 7, 8, 10, 1, 1, 8, 1, 10, 8, 7, 8, 8, 1, 2, 4, 8, 8, 7, 1, 8, 1, 7, 4, 6, 10, 8, 8, 4, 8, 4, 4, 1, 2, 1, 2, 8, 7, 9, 2, 9, 9, 10, 8, 8, 1, 8, 8, 6, 1, 1, 8, 7, 2, 10, 5, 8, 5, 8, 7, 10, 8, 2, 9, 1, 5, 1, 1, 8, 10, 1, 2, 8, 8, 1, 7, 6, 8, 8, 8, 10, 10, 4, 5, 7, 8, 7, 10, 8, 7, 2, 10, 2, 8, 2, 8, 10, 10, 10, 1, 10, 8, 1, 8, 8, 10, 8, 4, 1, 7, 8, 8, 8, 1, 8, 4, 1, 10, 8, 9, 10, 8, 8, 1, 1, 10, 10, 8, 7, 9, 10, 4, 10, 10, 10, 8, 1, 7, 1, 8, 8, 1, 10, 2, 8, 10, 1, 8, 4, 8, 8, 3, 1, 8, 10, 5, 8, 4, 7, 7, 2, 8, 8, 3, 8, 8, 5, 7, 2, 10, 4, 7, 1, 1, 9, 4, 7, 1, 8, 10, 7, 1, 8, 3, 9, 7, 9, 10, 7, 3, 8, 9, 2, 10, 1, 10, 10, 10, 4, 7, 8, 1, 1, 7, 4, 1, 4, 7, 10, 7, 6, 7, 1, 1, 9, 1, 10, 10, 9, 10, 8, 2, 5, 10, 2, 8, 8, 1, 8, 1, 8, 7, 2, 10, 7, 1, 1, 10, 8, 8, 10, 10, 1, 7, 10, 1, 2, 7, 8, 8, 10, 10, 10, 1, 10, 1, 6, 1, 8, 7, 10, 1, 7, 4, 3, 10, 2, 2, 8, 7, 7, 10, 1, 7, 1, 4, 8, 8, 7, 10, 2, 10, 4, 1, 7, 8, 1, 5, 8, 7, 10, 1, 1, 4, 8, 1, 5, 4, 9, 8, 1, 8, 7, 1, 10, 1, 1, 8, 8, 9, 8, 9, 4, 10, 1, 7, 8, 8, 8, 8, 7, 10, 1, 8, 7, 1, 3, 8, 10, 9, 10, 8, 1, 8, 8, 4, 7, 8, 8, 10, 7, 2, 9, 10, 10, 5, 10, 7, 4, 7, 1, 5, 1, 9, 8, 7, 8, 4, 8, 7, 10, 8, 8, 2, 10, 8, 1, 2, 10, 5, 4, 7, 8, 10, 8, 5, 10, 6, 5, 1, 2, 2, 1, 7, 7, 7, 4, 1, 8, 1, 9, 2, 1, 6, 3, 8, 1, 10, 10, 4, 10, 3, 8, 10, 2, 10, 8, 7, 10, 10, 10, 4, 7, 10, 8, 2, 7, 7, 3, 1, 8, 8, 8, 7, 10, 9, 1, 7, 8, 7, 7, 3, 10, 8, 5, 8, 2, 1, 10, 6, 1, 10, 7, 8, 7, 7, 10, 8, 8, 9, 7, 1, 10, 1, 9, 8, 9, 8, 10, 2, 8, 10, 10, 9, 10, 8, 8, 4, 8, 7, 8, 1, 5, 3, 1, 10, 1, 1, 1, 3, 8, 7, 7, 7, 7, 10, 1, 8, 8, 1, 5, 10, 2, 7, 1, 7, 4, 7, 8, 1, 9, 7, 7, 10, 1, 1, 8, 3, 1, 10, 1, 1, 1, 7, 1, 4, 5, 9, 7, 2, 10, 8, 1, 8, 7, 10, 1, 9, 7, 1, 1, 4, 10, 2, 10, 10, 8, 9, 4, 8, 1, 9, 4, 1, 1, 4, 4, 1, 10, 2, 8, 8, 8, 10, 1, 8, 1, 5, 10, 2, 1, 8, 8, 7, 8, 8, 7, 8, 10, 1, 2, 7, 10, 8, 7, 8, 7, 8, 10, 4, 2, 8, 10, 5, 1, 1, 10, 8, 8, 1, 10, 9, 2, 10, 10, 2, 1, 8, 5, 10, 10, 5, 8, 6, 8, 10, 5, 1, 4, 8, 1, 1, 7, 7, 1, 8, 1, 2, 9, 1, 5, 7, 8, 1, 2, 1, 5, 4, 7, 1, 8, 10, 7, 2, 2, 2, 2, 5, 3, 10, 7, 7, 2, 8, 8, 8, 5, 10, 1, 6, 7, 1, 10, 10, 8, 10, 8, 8, 7, 1, 8, 10, 7, 8, 7, 1, 8, 9, 7, 1, 10, 5, 1, 7, 8, 2, 8, 10, 8, 1, 5, 4, 1, 1, 8, 10, 7, 9, 9, 9, 1, 8, 9, 8, 10, 9, 10, 8, 10, 4, 8, 10, 1, 8, 1, 1, 1, 10, 7, 8, 5, 10, 3, 4, 10, 2, 5, 8, 8, 1, 10, 10, 10, 5, 1, 8, 7, 1, 8, 8, 3, 10, 1, 10, 8, 7, 10, 7, 1, 7, 1, 5, 8, 10, 8, 1, 10, 8, 9, 2, 7, 7, 7, 1, 7, 3, 10, 7, 9, 8, 10, 2, 1, 7, 8, 1, 6, 1, 8, 5, 10, 1, 10, 5, 6, 1, 10, 10, 2, 4, 1, 8, 7, 9, 8, 3, 1, 9, 8, 1, 3, 7, 8, 1, 5, 9, 2, 9, 2, 7, 4, 8, 10, 10, 8, 1, 8, 8, 8, 8, 1, 8, 10, 1, 10, 10, 7, 1, 7, 10, 1, 10, 7, 7, 4, 9, 1, 7, 9, 6, 10, 9, 9, 10, 1, 8, 7, 2, 5, 7, 10, 3, 9, 1, 10, 7, 10, 7, 5, 10, 2, 8, 4, 9, 8, 10, 1, 10, 8, 1, 1, 8, 8, 1, 1, 1, 2, 10, 7, 10, 8, 1, 8, 7, 2, 7, 8, 8, 10, 10, 10, 10, 2, 7, 8, 1, 1, 9, 10, 10, 9, 8, 10, 2, 8, 4, 1, 8, 2, 8, 10, 1, 7, 8, 9, 2, 8, 3, 3, 7, 10, 10, 1, 8, 5, 8, 10, 1, 4, 4, 7, 8, 1, 1, 8, 4, 8, 5, 8, 5, 8, 8, 2, 1, 7, 9, 1, 8, 7, 8, 1, 1, 8, 1, 8, 3, 10, 10, 4, 3, 4, 8, 7, 7, 9, 8, 1, 1, 4, 1, 8, 10, 8, 10, 10, 8, 7, 8, 3, 9, 10, 8, 7, 5, 1, 10, 10, 10, 7, 10, 5, 8, 9, 7, 3, 1, 1, 9, 7, 7, 4, 7, 4, 1, 3, 1, 10, 2, 10, 8, 5, 4, 10, 10, 8, 5, 8, 10, 1, 9, 7, 1, 10, 3, 8, 2, 1, 9, 7, 2, 2, 1, 9, 8, 10, 7, 8, 4, 10, 4, 8, 10, 6, 1, 1, 1, 2, 10, 10, 10, 10, 9, 10, 1, 7, 1, 10, 1, 7, 1, 1, 8, 7, 8, 7, 4, 2, 1, 7, 9, 5, 6, 7, 4, 8, 8, 1, 1, 7, 8, 7, 10, 7, 7, 8, 8, 7, 1, 1, 1, 10, 8, 1, 7, 1, 1, 1, 7, 3, 4, 7, 10, 10, 10, 10, 4, 1, 10, 8, 4, 5, 1, 10, 1, 1, 5, 8, 10, 7, 7, 1, 1, 8, 5, 1, 8, 1, 8, 7, 7, 8, 8, 8, 10, 10, 8, 6, 4, 1, 7, 8, 1, 9, 3, 4, 8, 1, 1, 8, 7, 8, 1, 7, 7, 1, 8, 7, 8, 10, 1, 1, 4, 8, 2, 1, 8, 1, 3, 7, 10, 10, 7, 1, 1, 10, 6, 7, 7, 7, 1, 8, 10, 1, 8, 3, 1, 1, 10, 7, 5, 1, 8, 10, 1, 1, 10, 7, 1, 10, 1, 10, 4, 7, 3, 2, 2, 10, 7, 7, 9, 5, 5, 8, 2, 8, 10, 8, 8, 3, 8, 3, 8, 8, 3, 7, 2, 8, 8, 7, 10, 10, 10, 8, 1, 3, 8, 1, 7, 8, 4, 5, 8, 7, 7, 1, 7, 10, 8, 1, 10, 1, 7, 2, 9, 10, 10, 8, 7, 8, 4, 1, 3, 7, 7, 1, 8, 4, 8, 1, 7, 4, 9, 7, 8, 8, 6, 10, 8, 10, 1, 8, 8, 1, 7, 7, 9, 10, 1, 10, 4, 8, 7, 1, 8, 7, 8, 8, 1, 7, 3, 2, 2, 9, 1, 1, 8, 10, 1, 6, 9, 9, 2, 10, 8, 8, 10, 1, 8, 4, 10, 10, 8, 5, 1, 2, 2, 8, 5, 7, 9, 10, 10, 10, 7, 10, 1, 7, 7, 1, 7, 4, 8, 10, 1, 8, 4, 10, 9, 1, 1, 8, 7, 10, 4, 1, 1, 8, 8, 10, 8, 5, 7, 1, 8, 10, 1, 3, 8, 7, 2, 4, 2, 7, 8, 7, 2, 1, 9, 10, 1, 1, 8, 8, 4, 1, 7, 5, 8, 8, 9, 10, 10, 3, 1, 1, 2, 10, 8, 1, 2, 8, 8, 1, 1, 1, 4, 7, 1, 8, 8, 1, 7, 10, 2, 8, 5, 1, 10, 10, 1, 3, 7, 8, 7, 10, 7, 8, 7, 1, 9, 8, 7, 8, 8, 9, 10, 5, 7, 7, 3, 7, 10, 1, 1, 1, 10, 2, 8, 8, 4, 8, 8, 9, 9, 8, 1, 8, 1, 8, 2, 3, 10, 10, 8, 3, 10, 7, 7, 4, 10, 2, 7, 7, 8, 7, 8, 1, 1, 5, 9, 10, 1, 10, 10, 7, 8, 4, 7, 9, 10, 3, 10, 7, 1, 7, 8, 7, 7, 1, 7, 7, 1, 10, 7, 7, 7, 9, 10, 4, 1, 8, 1, 8, 2, 1, 1, 4, 10, 4, 4, 1, 9, 8, 4, 9, 10, 2, 1, 7, 8, 2, 1, 1, 3, 8, 8, 8, 7, 7, 8, 8, 2, 2, 7, 8, 10, 7, 5, 7, 5, 5, 10, 4, 1, 10, 10, 1, 10, 10, 1, 7, 8, 1, 8, 1, 7, 8, 1, 1, 1, 8]\n",
    "#true_durations = [4, 10, 9, 5, 7, 2, 7, 8, 10, 3, 6, 1, 5, 6, 3, 7, 7, 4, 3, 9, 5, 6, 9, 7, 6, 4, 4, 9, 3, 10, 9, 8, 5, 9, 5, 9, 8, 10, 8, 4, 4, 4, 8, 10, 9, 10, 4, 1, 2, 6, 6, 10, 9, 7, 8, 5, 7, 2, 10, 9, 5, 3, 3, 9, 8, 4, 10, 9, 8, 3, 4, 9, 7, 7, 8, 5, 5, 8, 10, 4, 6, 10, 5, 8, 7, 4, 1, 1, 2, 8, 3, 3, 10, 6, 6, 1, 3, 6, 4, 8, 9, 8, 6, 8, 8, 2, 4, 8, 5, 5, 4, 4, 3, 4, 9, 1, 10, 6, 9, 6, 1, 2, 9, 4, 3, 4, 4, 9, 7, 7, 9, 9, 8, 7, 1, 3, 6, 6, 9, 7, 6, 3, 10, 5, 2, 8, 3, 4, 2, 7, 1, 2, 10, 6, 6, 4, 7, 2, 5, 5, 2, 8, 3, 2, 2, 6, 1, 9, 2, 7, 4, 4, 6, 6, 9, 8, 3, 9, 8, 3, 7, 2, 5, 10, 10, 7, 9, 5, 7, 4, 2, 3, 2, 6, 5, 4, 9, 9, 3, 4, 5, 4, 9, 10, 10, 8, 1, 9, 5, 5, 7, 5, 9, 3, 5, 2, 9, 1, 7, 2, 7, 6, 9, 6, 7, 2, 7, 10, 6, 7, 3, 4, 2, 2, 8, 10, 2, 8, 5, 2, 7, 5, 5, 2, 8, 8, 2, 8, 3, 4, 5, 4, 8, 7, 8, 6, 10, 4, 10, 1, 2, 4, 6, 8, 5, 10, 6, 7, 6, 2, 10, 8, 1, 8, 4, 5, 2, 1, 7, 6, 7, 1, 9, 7, 3, 10, 10, 8, 7, 5, 6, 9, 1, 9, 9, 7, 8, 9, 10, 2, 10, 7, 5, 1, 1, 4, 10, 2, 10, 1, 8, 7, 4, 4, 1, 9, 5, 5, 5, 10, 10, 9, 4, 9, 10, 3, 9, 2, 9, 6, 8, 6, 3, 8, 10, 9, 7, 4, 1, 9, 9, 8, 4, 1, 10, 1, 1, 7, 1, 8, 9, 3, 4, 7, 7, 5, 7, 7, 7, 10, 8, 6, 5, 3, 7, 9, 3, 4, 6, 5, 1, 2, 2, 1, 6, 3, 8, 8, 5, 3, 3, 10, 9, 6, 8, 4, 7, 5, 6, 9, 8, 7, 3, 8, 10, 10, 8, 6, 5, 3, 1, 10, 3, 7, 2, 9, 6, 2, 6, 1, 6, 7, 1, 1, 7, 3, 7, 5, 9, 6, 9, 7, 7, 1, 4, 8, 6, 9, 1, 3, 4, 3, 9, 7, 5, 7, 6, 8, 9, 6, 4, 3, 1, 6, 1, 7, 5, 2, 10, 5, 7, 1, 1, 1, 10, 6, 2, 8, 2, 9, 7, 5, 1, 10, 2, 4, 1, 6, 10, 6, 4, 4, 9, 1, 6, 1, 10, 10, 8, 9, 7, 9, 9, 1, 4, 3, 5, 3, 9, 2, 5, 2, 8, 9, 2, 9, 4, 4, 7, 3, 2, 7, 10, 1, 1, 10, 9, 8, 6, 3, 7, 4, 9, 10, 8, 1, 7, 1, 3, 4, 2, 6, 2, 6, 4, 4, 8, 4, 4, 5, 5, 4, 4, 2, 8, 2, 5, 5, 3, 7, 8, 6, 2, 3, 2, 6, 10, 4, 4, 4, 3, 9, 1, 8, 3, 8, 3, 4, 3, 7, 8, 7, 4, 9, 4, 1, 4, 8, 9, 3, 9, 7, 10, 3, 2, 4, 4, 4, 2, 5, 4, 3, 3, 10, 2, 10, 7, 4, 2, 6, 3, 2, 7, 1, 1, 9, 6, 5, 1, 6, 2, 3, 5, 5, 6, 1, 8, 10, 1, 8, 1, 1, 7, 5, 6, 10, 8, 9, 9, 10, 6, 4, 5, 2, 5, 10, 4, 3, 1, 6, 6, 2, 8, 10, 4, 8, 10, 2, 9, 7, 3, 2, 10, 1, 7, 3, 10, 10, 6, 8, 4, 4, 5, 8, 9, 5, 1, 6, 3, 9, 10, 6, 7, 1, 10, 5, 8, 4, 4, 9, 2, 3, 10, 10, 4, 9, 7, 8, 3, 2, 2, 10, 8, 5, 8, 6, 9, 2, 10, 4, 4, 9, 5, 6, 5, 7, 8, 5, 9, 5, 7, 4, 5, 6, 9, 3, 7, 9, 9, 3, 1, 5, 1, 8, 4, 2, 4, 9, 9, 3, 3, 2, 1, 6, 6, 5, 5, 8, 3, 1, 3, 1, 7, 7, 8, 2, 3, 10, 5, 3, 1, 10, 3, 10, 1, 8, 5, 1, 9, 6, 10, 8, 8, 2, 4, 6, 1, 10, 9, 3, 9, 4, 2, 4, 1, 7, 2, 9, 1, 7, 6, 1, 6, 2, 10, 10, 2, 9, 6, 5, 10, 4, 10, 8, 10, 1, 10, 10, 9, 2, 10, 3, 5, 5, 5, 2, 5, 2, 2, 1, 10, 5, 8, 9, 7, 8, 4, 7, 9, 4, 8, 6, 10, 7, 1, 5, 3, 10, 6, 1, 8, 1, 5, 10, 8, 8, 9, 9, 10, 6, 7, 1, 8, 7, 1, 5, 6, 9, 1, 8, 9, 9, 9, 10, 4, 6, 6, 8, 6, 10, 6, 6, 7, 7, 3, 7, 4, 10, 6, 7, 7, 7, 3, 1, 5, 8, 5, 6, 6, 7, 5, 7, 8, 3, 4, 7, 9, 3, 8, 2, 2, 6, 9, 10, 3, 5, 5, 10, 9, 3, 7, 4, 3, 2, 1, 3, 10, 8, 5, 5, 8, 8, 9, 6, 9, 8, 10, 10, 4, 10, 2, 5, 4, 1, 7, 10, 3, 8, 10, 2, 1, 8, 6, 9, 7, 4, 2, 8, 9, 7, 10, 6, 7, 5, 10, 3, 2, 9, 5, 3, 1, 1, 2, 6, 5, 3, 8, 10, 4, 1, 8, 3, 4, 7, 5, 1, 7, 9, 9, 8, 1, 8, 7, 7, 6, 3, 6, 10, 9, 4, 7, 10, 10, 9, 2, 7, 4, 4, 5, 10, 7, 6, 3, 2, 7, 3, 6, 6, 5, 4, 7, 1, 8, 4, 8, 7, 5, 1, 6, 7, 8, 6, 5, 10, 8, 3, 3, 10, 1, 9, 2, 6, 8, 4, 5, 8, 10, 10, 2, 10, 2, 2, 10, 5, 5, 2, 1, 2, 2, 7, 7, 8, 9, 6, 4, 1, 8, 10, 4, 3, 8, 1, 8, 4, 3, 4, 3, 10, 6, 2, 8, 4, 4, 6, 8, 6, 9, 7, 2, 7, 6, 2, 6, 2, 5, 9, 9, 7, 9, 9, 5, 7, 9, 10, 4, 10, 3, 1, 2, 4, 10, 7, 6, 10, 10, 9, 5, 10, 6, 5, 3, 1, 4, 9, 5, 2, 9, 1, 4, 7, 7, 6, 8, 5, 1, 6, 2, 2, 9, 3, 10, 2, 2, 8, 8, 7, 1, 8, 1, 10, 2, 1, 8, 1, 6, 2, 4, 7, 10, 5, 10, 1, 1, 9, 5, 4, 10, 9, 10, 7, 7, 5, 7, 3, 7, 8, 9, 3, 2, 3, 7, 6, 10, 10, 1, 9, 8, 8, 8, 3, 6, 5, 1, 9, 2, 1, 5, 1, 10, 3, 9, 9, 6, 4, 3, 1, 1, 9, 2, 10, 5, 3, 6, 5, 8, 9, 1, 2, 2, 3, 5, 4, 4, 5, 10, 10, 8, 6, 9, 6, 9, 9, 9, 2, 8, 1, 6, 1, 2, 8, 9, 3, 7, 7, 3, 4, 8, 9, 8, 4, 1, 9, 3, 5, 6, 5, 10, 6, 6, 4, 7, 5, 10, 8, 10, 1, 7, 5, 6, 10, 3, 9, 1, 5, 5, 4, 4, 6, 10, 10, 9, 8, 1, 3, 8, 10, 3, 3, 10, 1, 6, 5, 3, 5, 2, 8, 4, 4, 8, 3, 9, 10, 9, 1, 10, 6, 2, 7, 4, 3, 3, 6, 1, 8, 10, 3, 4, 6, 4, 3, 4, 1, 8, 6, 2, 4, 10, 5, 1, 10, 3, 5, 9, 8, 5, 1, 8, 6, 3, 4, 4, 8, 10, 2, 5, 9, 2, 1, 7, 4, 6, 2, 3, 5, 7, 4, 4, 4, 8, 1, 5, 4, 6, 7, 1, 5, 7, 8, 5, 6, 9, 10, 5, 4, 3, 1, 7, 8, 8, 3, 10, 2, 10, 10, 5, 5, 3, 7, 7, 7, 1, 10, 6, 3, 1, 1, 5, 2, 2, 8, 7, 7, 1, 8, 1, 4, 7, 6, 1, 8, 1, 5, 7, 8, 6, 10, 2, 1, 1, 10, 5, 4, 1, 6, 1, 2, 3, 10, 6, 9, 1, 10, 2, 4, 9, 6, 6, 8, 3, 4, 2, 8, 6, 1, 6, 9, 8, 9, 5, 4, 5, 1, 4, 10, 6, 7, 2, 1, 5, 9, 6, 5, 3, 8, 4, 6, 7, 9, 8, 7, 8, 7, 2, 10, 1, 3, 9, 10, 6, 3, 8, 5, 2, 6, 9, 2, 4, 9, 9, 1, 7, 5, 5, 2, 1, 7, 2, 2, 4, 7, 7, 5, 4, 8, 7, 2, 6, 8, 10, 10, 2, 5, 4, 7, 7, 7, 4, 6, 6, 1, 4, 5, 10, 8, 3, 9, 6, 1, 5, 7, 3, 10, 2, 5, 3, 1, 3, 3, 7, 9, 6, 2, 3, 3, 8, 1, 7, 8, 8, 1, 4, 1, 5, 8, 3, 4, 3, 10, 5, 5, 7, 3, 8, 5, 6, 6, 5, 1, 3, 6, 10, 4, 6, 6, 7, 8, 10, 8, 1, 3, 1, 3, 4, 2, 2, 9, 10, 9, 2, 10, 2, 6, 2, 4, 4, 3, 6, 6, 6, 6, 6, 2, 5, 6, 10, 5, 7, 8, 5, 3, 3, 1, 1, 7, 7, 5, 6, 1, 5, 8, 6, 2, 7, 1, 2, 5, 2, 7, 1, 10, 4, 3, 9, 1, 1, 1, 3, 5, 4, 1, 7, 3, 4, 1, 10, 5, 4, 8, 4, 9, 5, 4, 8, 9, 4, 5, 6, 3, 3, 6, 2, 5, 3, 9, 4, 3, 7, 1, 3, 3, 3, 3, 9, 2, 10, 10, 2, 1, 8, 3, 6, 1, 8, 10, 10, 3, 4, 2, 7, 5, 2, 7, 8, 8, 8, 1, 3, 7, 2, 9, 3, 2, 3, 10, 7, 5, 1, 9, 3, 1, 1, 8, 10, 3, 3, 2, 9, 1, 3, 6, 2, 9, 2, 9, 2, 5, 7, 10, 1, 5, 9, 3, 4, 7, 3, 6, 9, 9, 2, 10, 10, 10, 3, 2, 10, 3, 3, 10, 7, 10, 4, 9, 5, 8, 8, 1, 8, 5, 6, 8, 3, 2, 3, 7, 2, 1, 4, 6, 5, 7, 9, 7, 2, 6, 7, 8, 9, 8, 2, 8, 5, 4, 8, 9, 4, 4, 6, 7, 8, 2, 5, 3, 3, 4, 8, 9, 4, 4, 1, 1, 5, 7, 6, 6, 2, 3, 1, 3, 9, 5, 1, 5, 10, 10, 10, 9, 1, 6, 6, 9, 1, 6, 5, 8, 5, 1, 8, 2, 9, 4, 6, 9, 1, 2, 7, 7, 5, 3, 9, 2, 1, 5, 6, 2, 3, 3, 6, 3, 5, 6, 8, 5, 3, 4, 7, 7, 7, 4, 7, 4, 7, 9, 5, 9, 8, 4, 4, 2, 6, 6, 10, 10, 3, 6, 3, 1, 2, 3, 6, 10, 4, 3, 9, 10, 9, 3, 9, 3, 3, 8, 6, 2, 6, 3, 1, 10, 5, 8, 6, 9, 4, 9, 10, 9, 5, 7, 3, 8, 9, 8, 3, 2, 2, 2, 8, 4, 8, 4, 1, 4, 4, 5, 2, 5, 5, 3, 3, 8, 6, 10, 4, 6, 6, 8, 8, 9, 3, 3, 1, 8, 4, 1, 9, 7, 3, 9, 5, 4, 5, 2, 1, 6, 8, 8, 5, 8, 6, 1, 10, 10, 3, 1, 10, 8, 6, 1, 3, 7]\n",
    "\n",
    "distribution = [predicted_durations[i] - true_durations[i] for i in range(len(predicted_durations))]\n",
    "\n",
    "sns.histplot(distribution, bins=7, kde=True)"
   ]
  },
  {
   "cell_type": "code",
   "execution_count": null,
   "metadata": {},
   "outputs": [],
   "source": [
    "metrics = validate(true_durations, predicted_durations)\n",
    "print(metrics)"
   ]
  },
  {
   "cell_type": "code",
   "execution_count": null,
   "metadata": {},
   "outputs": [],
   "source": [
    "[print(\"{}: {}\".format(distribution[i], input_text[i])) for i in range(len(distribution)) if distribution[i] > metrics['mean_absolute_error'] or distribution[i] < -metrics['mean_absolute_error']]"
   ]
  }
 ],
 "metadata": {
  "kernelspec": {
   "display_name": "Python 3",
   "language": "python",
   "name": "python3"
  },
  "language_info": {
   "codemirror_mode": {
    "name": "ipython",
    "version": 3
   },
   "file_extension": ".py",
   "mimetype": "text/x-python",
   "name": "python",
   "nbconvert_exporter": "python",
   "pygments_lexer": "ipython3",
   "version": "3.10.11"
  },
  "metadata": {
   "interpreter": {
    "hash": "d575028488d648a4c7783b21a32187cdd670bba5a0a4ba31a8e94d9c0a6370fc"
   }
  },
  "orig_nbformat": 4,
  "vscode": {
   "interpreter": {
    "hash": "953ed6bc8189f5d205e703207c735be6eeae3c752b871bbdd2c516ca95f1cdcb"
   }
  }
 },
 "nbformat": 4,
 "nbformat_minor": 2
}
